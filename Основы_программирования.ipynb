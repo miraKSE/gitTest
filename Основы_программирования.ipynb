{
  "nbformat": 4,
  "nbformat_minor": 0,
  "metadata": {
    "colab": {
      "provenance": [],
      "authorship_tag": "ABX9TyMzXlQe3U2EwrTh8EXabztR",
      "include_colab_link": true
    },
    "kernelspec": {
      "name": "python3",
      "display_name": "Python 3"
    },
    "language_info": {
      "name": "python"
    }
  },
  "cells": [
    {
      "cell_type": "markdown",
      "metadata": {
        "id": "view-in-github",
        "colab_type": "text"
      },
      "source": [
        "<a href=\"https://colab.research.google.com/github/miraKSE/gitTest/blob/test/%D0%9E%D1%81%D0%BD%D0%BE%D0%B2%D1%8B_%D0%BF%D1%80%D0%BE%D0%B3%D1%80%D0%B0%D0%BC%D0%BC%D0%B8%D1%80%D0%BE%D0%B2%D0%B0%D0%BD%D0%B8%D1%8F.ipynb\" target=\"_parent\"><img src=\"https://colab.research.google.com/assets/colab-badge.svg\" alt=\"Open In Colab\"/></a>"
      ]
    },
    {
      "cell_type": "markdown",
      "source": [
        "#Основы программирования на Python\n",
        "Python - универсальный язык программирования, отличающийся простотой и выразительностью."
      ],
      "metadata": {
        "id": "wWfQ6EvzrRt_"
      }
    },
    {
      "cell_type": "markdown",
      "source": [
        "# Компиляторы и интерпретаторы\n",
        "\n",
        "Два основных инструмента - компиляторы и интерпретаторы - обеспечивают выполнение кода. Компилятор преобразует весь код в машинный язык до выполнения, тогда как интерпретатор выполняет код построчно.\n",
        "\n",
        "## Компиляторы\n",
        "\n",
        "### Принцип работы:\n",
        "\n",
        "- Компилятор преобразует весь исходный код программы в машинный код или код на низкоуровневом языке до того, как программа будет выполнена.\n",
        "- Процесс компиляции происходит в два этапа: сначала компилятор анализирует весь исходный код и создает промежуточный код (объектный код), а затем этот промежуточный код преобразуется в исполняемый файл.\n",
        "\n",
        "### Преимущества:\n",
        "\n",
        "- Программы, скомпилированные компилятором, часто работают быстрее, так как весь код уже преобразован в машинный код.\n",
        "- Ошибки обнаруживаются на этапе компиляции, что упрощает процесс отладки.\n",
        "\n",
        "### Недостатки:\n",
        "\n",
        "- Процесс компиляции занимает время, и исполнимый файл часто является платформозависимым.\n",
        "- Изменения в коде требуют повторной компиляции.\n",
        "\n",
        "\n",
        "\n",
        "\n",
        "# Интерпретаторы\n",
        "\n",
        "### Принцип работы:\n",
        "\n",
        "- Интерпретатор выполняет исходный код программы построчно, без создания отдельного исполняемого файла.\n",
        "- Каждая строка кода интерпретируется и сразу выполняется.\n",
        "\n",
        "### Преимущества:\n",
        "\n",
        "- Интерпретаторы обеспечивают более гибкий и динамичный процесс разработки, так как изменения в коде могут быть внесены непосредственно без необходимости повторной компиляции.\n",
        "- Более простой процесс отладки, так как ошибки выявляются в момент выполнения кода.\n",
        "\n",
        "### Недостатки:\n",
        "\n",
        "- Программы, интерпретируемые построчно, часто медленнее, так как нет этапа предварительной компиляции в машинный код.\n",
        "- Некоторые ошибки могут быть обнаружены только во время выполнения программы.\n",
        "\n",
        "### Гибридные подходы:\n",
        "\n",
        "Важно отметить, что существуют и гибридные подходы, такие как JIT-компиляция (Just-In-Time), которая объединяет преимущества обоих методов для достижения более эффективного выполнения кода.\n"
      ],
      "metadata": {
        "id": "mVwsmDWftChM"
      }
    },
    {
      "cell_type": "markdown",
      "source": [
        "# Языки программирования\n",
        "\n",
        "Существует множество языков программирования, каждый с своей уникальной целью. Python выделяется своей читаемостью и ясностью синтаксиса.\n",
        "\n",
        "## Примеры языков программирования\n",
        "\n",
        "Некоторые популярные языки программирования включают:\n",
        "\n",
        "- **Python:** Универсальный язык программирования, известный своей простотой и выразительностью.\n",
        "- **Java:** Используется для создания кросс-платформенных приложений и веб-разработки.\n",
        "- **C++:** Мощный язык, применяемый в системном программировании и создании игр.\n",
        "- **JavaScript:** Язык программирования для веб-разработки, обеспечивает интерактивность на веб-страницах.\n",
        "- **Ruby:** Динамичный язык, часто используется в веб-разработке.\n",
        "\n",
        "Каждый из этих языков подходит для определенных задач, и выбор зависит от требований конкретного проекта или предпочтений разработчика.\n",
        "\n"
      ],
      "metadata": {
        "id": "Z5Nn1d4luWlg"
      }
    },
    {
      "cell_type": "markdown",
      "source": [
        "# Переменные в Python\n",
        "\n",
        "В Python переменные играют ключевую роль в хранении и управлении данными. В отличие от некоторых языков программирования, в Python не требуется явно объявлять тип переменной; тип данных определяется автоматически.\n",
        "\n",
        "## Определение переменных\n",
        "\n",
        "Переменные в Python определяются простым присваиванием значения переменной. Например:\n",
        "\n",
        "```\n",
        "age = 25\n",
        "name = \"John\"\n",
        "is_student = True\n",
        "```\n",
        "\n",
        "В приведенном примере `age` - это переменная типа целое число, `name` - переменная типа строка, а `is_student` - переменная типа булево значение.\n",
        "\n",
        "## Динамическая типизация\n",
        "\n",
        "Python - язык с динамической типизацией, что означает, что тип переменной может изменяться во время выполнения программы. Например:\n",
        "\n",
        "```\n",
        "x = 10  # x - целое число\n",
        "x = \"Hello\"  # x - строка теперь\n",
        "```\n",
        "\n",
        "---\n",
        "\n",
        "\n",
        "\n",
        "---\n",
        "\n",
        "\n",
        "\n",
        "## Использование переменных\n",
        "\n",
        "Переменные могут использоваться в выражениях и операциях. Например:\n",
        "\n",
        "```\n",
        "a = 5\n",
        "b = 3\n",
        "sum_result = a + b\n",
        "```\n",
        "\n",
        "В этом случае `sum_result` будет равно 8.\n",
        "\n",
        "## Именование переменных\n",
        "\n",
        "При именовании переменных в Python следует придерживаться определенных правил:\n",
        "- Имя переменной может содержать буквы, цифры и символ подчеркивания.\n",
        "- Имя переменной не может начинаться с цифры.\n",
        "- Python чувствителен к регистру, поэтому myVar и myvar будут считаться разными переменными.\n"
      ],
      "metadata": {
        "id": "rUg5_2IyuxzO"
      }
    },
    {
      "cell_type": "markdown",
      "source": [
        "# Ввод и вывод данных в Python\n",
        "\n",
        "## Ввод данных в Python\n",
        "\n",
        "Для ввода данных в Python используется функция `input()`. Вы можете использовать ее следующим образом:\n",
        "\n",
        "    # Пример ввода данных\n",
        "    user_input = input(\"Введите что-то: \")\n",
        "\n",
        "## Вывод данных в Python\n",
        "\n",
        "Для вывода данных в Python используется функция `print()`. Вы можете использовать ее для вывода переменных, строк и других данных:\n",
        "\n",
        "    # Пример вывода данных\n",
        "    result = 42\n",
        "    print(\"Результат:\", result)\n",
        "\n",
        "    # Можно также выводить несколько значений через запятую\n"
      ],
      "metadata": {
        "id": "VO5155BCyK34"
      }
    },
    {
      "cell_type": "code",
      "source": [
        "number1 = float(input(\"Введите первое число: \"))\n",
        "number2 = float(input(\"Введите второе число: \"))\n",
        "\n",
        "sum_result = number1 + number2\n",
        "\n",
        "print(\"Сумма чисел:\", sum_result)\n"
      ],
      "metadata": {
        "colab": {
          "base_uri": "https://localhost:8080/"
        },
        "id": "9nHE3WitysNW",
        "outputId": "6bff1585-c2ff-4d24-9e9d-dba326cb6351"
      },
      "execution_count": null,
      "outputs": [
        {
          "output_type": "stream",
          "name": "stdout",
          "text": [
            "Введите первое число: 12\n",
            "Введите второе число: 13\n",
            "Сумма чисел: 25.0\n"
          ]
        }
      ]
    },
    {
      "cell_type": "code",
      "source": [
        "name = input(\"Введите ваше имя: \")\n",
        "age = int(input(\"Введите ваш возраст: \"))\n",
        "\n",
        "print(\"Привет, {}! Тебе {} лет.\".format(name, age))\n"
      ],
      "metadata": {
        "colab": {
          "base_uri": "https://localhost:8080/"
        },
        "id": "Bqv663fAytZO",
        "outputId": "9795e6f0-2225-4cc4-e6ce-15d3cc8f5e85"
      },
      "execution_count": null,
      "outputs": [
        {
          "output_type": "stream",
          "name": "stdout",
          "text": [
            "Введите ваше имя: Мира\n",
            "Введите ваш возраст: 25\n",
            "Привет, Мира! Тебе 25 лет.\n"
          ]
        }
      ]
    },
    {
      "cell_type": "markdown",
      "source": [
        "# Условия в программировании\n",
        "\n",
        "**Что такое условия:**\n",
        "\n",
        "Условия в программировании представляют собой конструкции, которые позволяют выполнение определенных блоков кода в зависимости от истинности или ложности заданного выражения. Они являются важной частью контроля потока выполнения программы.\n",
        "\n",
        "**Для чего используются условия:**\n",
        "\n",
        "1. **Принятие решений:** Условия позволяют программе принимать решения в зависимости от текущих данных или ввода пользователя.\n",
        "\n",
        "2. **Контроль потока выполнения:** Они определяют, какие части кода будут выполнены, а какие пропущены, в зависимости от установленных условий.\n",
        "\n",
        "3. **Обработка различных случаев:** Условия позволяют программам адаптироваться к разным сценариям, что делает их более гибкими и универсальными.\n",
        "\n",
        "Пример использования условия в Python:\n",
        "\n",
        "```python\n",
        "# Пример условия\n",
        "x = 10\n",
        "\n",
        "if x > 0:\n",
        "    print(\"Число положительное\")\n",
        "elif x == 0:\n",
        "    print(\"Число равно нулю\")\n",
        "else:\n",
        "    print(\"Число отрицательное\")\n",
        "```\n",
        "\n",
        "В этом примере, в зависимости от значения переменной `x`, будет выполнен определенный блок кода."
      ],
      "metadata": {
        "id": "vz_AT4WczYnW"
      }
    },
    {
      "cell_type": "code",
      "source": [
        "# Ввод числа от пользователя\n",
        "number = int(input(\"Введите целое число: \"))\n",
        "\n",
        "# Проверка на четность\n",
        "if number % 2 == 0:\n",
        "    print(\"Число\", number, \"четное.\")\n",
        "else:\n",
        "    print(\"Число\", number, \"нечетное.\")\n"
      ],
      "metadata": {
        "colab": {
          "base_uri": "https://localhost:8080/"
        },
        "id": "U6UjbhQ6zvFA",
        "outputId": "f73dd69e-c761-4b72-8300-cdb23b46c449"
      },
      "execution_count": null,
      "outputs": [
        {
          "output_type": "stream",
          "name": "stdout",
          "text": [
            "Введите целое число: 16\n",
            "Число 16 четное.\n"
          ]
        }
      ]
    },
    {
      "cell_type": "code",
      "source": [
        "# Ввод текущего времени от пользователя\n",
        "current_time = int(input(\"Введите текущее время (в часах, от 0 до 23): \"))\n",
        "\n",
        "# Определение времени суток\n",
        "if 0 <= current_time < 6:\n",
        "    print(\"Доброй ночи!\")\n",
        "elif 6 <= current_time < 12:\n",
        "    print(\"Доброе утро!\")\n",
        "elif 12 <= current_time < 18:\n",
        "    print(\"Добрый день!\")\n",
        "else:\n",
        "    print(\"Добрый вечер!\")\n"
      ],
      "metadata": {
        "colab": {
          "base_uri": "https://localhost:8080/"
        },
        "id": "hNI_kl3Pzv8y",
        "outputId": "05cd1721-05d9-4ff0-e8af-f28288ac88c3"
      },
      "execution_count": null,
      "outputs": [
        {
          "output_type": "stream",
          "name": "stdout",
          "text": [
            "Введите текущее время (в часах, от 0 до 23): 19\n",
            "Добрый вечер!\n"
          ]
        }
      ]
    },
    {
      "cell_type": "markdown",
      "source": [
        "В Python массивы представлены встроенным типом данных `list` (список). Списки в Python предоставляют гибкую структуру для хранения и обработки коллекций элементов.\n",
        "\n",
        "### Создание списка:\n",
        "\n",
        "```python\n",
        "# Пустой список\n",
        "empty_list = []\n",
        "\n",
        "# Список с элементами разных типов\n",
        "mixed_list = [1, 'hello', 3.14, True]\n",
        "\n",
        "# Список чисел\n",
        "numbers = [1, 2, 3, 4, 5]\n",
        "\n",
        "# Список строк\n",
        "fruits = ['apple', 'banana', 'orange']\n",
        "```\n",
        "\n",
        "### Доступ к элементам списка:\n",
        "\n",
        "```python\n",
        "# Индексация элементов (начинается с 0)\n",
        "first_element = fruits[0]  # 'apple'\n",
        "second_element = fruits[1]  # 'banana'\n",
        "```\n",
        "\n",
        "### Изменение элементов списка:\n",
        "\n",
        "```python\n",
        "fruits[1] = 'grape'\n",
        "# Теперь список fruits стал ['apple', 'grape', 'orange']\n",
        "```\n",
        "\n",
        "### Добавление элементов в список:\n",
        "\n",
        "```python\n",
        "fruits.append('watermelon')\n",
        "# Теперь список fruits стал ['apple', 'grape', 'orange', 'watermelon']\n",
        "```\n",
        "\n",
        "### Удаление элементов из списка:\n",
        "\n",
        "```python\n",
        "fruits.remove('grape')\n",
        "# Теперь список fruits стал ['apple', 'orange', 'watermelon']\n",
        "```\n",
        "\n",
        "### Операции среза (slicing):\n",
        "\n",
        "```python\n",
        "# Получение подсписка с определенными элементами\n",
        "subset = fruits[1:3]  # ['orange', 'watermelon']\n",
        "\n",
        "# Получение подсписка с определенным шагом\n",
        "every_second = fruits[::2]  # ['apple', 'orange']\n",
        "```\n",
        "\n",
        "### Длина списка:\n",
        "\n",
        "```python\n",
        "length = len(fruits)  # 3\n",
        "```\n",
        "\n",
        "### Методы списка:\n",
        "\n",
        "Списки в Python имеют множество методов для удобной работы с данными. Например:\n",
        "\n",
        "```python\n",
        "numbers.sort()  # Сортировка списка по возрастанию\n",
        "numbers.reverse()  # Обратный порядок элементов в списке\n",
        "```\n",
        "\n",
        "Списки в Python - это мощный и универсальный инструмент для хранения и обработки данных, и они широко используются в различных задачах программирования."
      ],
      "metadata": {
        "id": "wZmg-dbj3QgN"
      }
    },
    {
      "cell_type": "markdown",
      "source": [
        "# Циклы в программировании\n",
        "\n",
        "Циклы представляют собой конструкции в программировании, которые позволяют повторять выполнение определенного блока кода. Это полезное средство автоматизации и управления повторяющимися задачами.\n",
        "\n",
        "## `for` Цикл\n",
        "\n",
        "Цикл `for` используется для перебора элементов в последовательности (например, списке, кортеже или строке). Пример:\n",
        "\n",
        "```python\n",
        "# Пример цикла for для списка\n",
        "numbers = [1, 2, 3, 4, 5]\n",
        "\n",
        "for num in numbers:\n",
        "    print(num)\n",
        "```\n",
        "\n",
        "В этом примере цикл `for` перебирает элементы списка `numbers` и выводит их на экран.\n",
        "\n",
        "## `while` Цикл\n",
        "\n",
        "Цикл `while` выполняет блок кода, пока условие остается истинным. Пример:\n",
        "\n",
        "```python\n",
        "# Пример цикла while\n",
        "count = 0\n",
        "\n",
        "while count < 5:\n",
        "    print(\"Текущее значение count:\", count)\n",
        "    count += 1\n",
        "```\n",
        "\n",
        "Этот цикл `while` выполняется, пока `count` меньше 5, и выводит текущее значение `count` на каждой итерации.\n",
        "\n",
        "## Прерывание и Пропуск Цикла\n",
        "\n",
        "В циклах можно использовать операторы `break` для прерывания цикла и `continue` для перехода к следующей итерации. Пример:\n",
        "\n",
        "```python\n",
        "# Пример использования break и continue\n",
        "for i in range(10):\n",
        "    if i == 5:\n",
        "        break  # Прерывание цикла при i == 5\n",
        "    elif i % 2 == 0:\n",
        "        continue  # Пропуск четных значений\n",
        "    print(i)\n",
        "```\n",
        "\n",
        "В этом примере цикл `for` прерывается при `i == 5` и пропускает четные значения, выводя на экран только нечетные числа.\n",
        "\n",
        "Циклы в программировании обеспечивают эффективное выполнение повторяющихся задач и улучшают структуру кода."
      ],
      "metadata": {
        "id": "tzHNSY5W0ncX"
      }
    },
    {
      "cell_type": "markdown",
      "source": [
        "# Функции в программировании\n",
        "\n",
        "Функции представляют собой блоки кода, которые могут быть вызваны с определенными параметрами для выполнения конкретной задачи. Они являются основными строительными блоками программ и способствуют модульности и переиспользованию кода.\n",
        "\n",
        "## Определение функции\n",
        "\n",
        "Функции в Python могут быть определены с использованием ключевого слова `def`. Пример:\n",
        "\n",
        "```python\n",
        "# Пример определения функции\n",
        "def greet(name):\n",
        "    \"\"\"Функция приветствия\"\"\"\n",
        "    print(\"Привет, \" + name + \"!\")\n",
        "```\n",
        "\n",
        "В этом примере функция `greet` принимает один параметр `name` и выводит приветствие на экран.\n",
        "\n",
        "## Вызов функции\n",
        "\n",
        "Функции вызываются с передачей аргументов, если они ожидают параметры. Пример вызова функции:\n",
        "\n",
        "```python\n",
        "# Пример вызова функции\n",
        "greet(\"Анна\")\n",
        "```\n",
        "\n",
        "Этот вызов функции `greet` передает строку \"Анна\" в качестве аргумента.\n",
        "\n",
        "## Возвращение значения\n",
        "\n",
        "Функции могут возвращать значение с использованием ключевого слова `return`. Пример:\n",
        "\n",
        "```python\n",
        "# Пример функции с возвращаемым значением\n",
        "def add_numbers(a, b):\n",
        "    \"\"\"Функция сложения двух чисел\"\"\"\n",
        "    return a + b\n",
        "\n",
        "# Вызов функции и сохранение результата\n",
        "result = add_numbers(3, 5)\n",
        "print(\"Сумма чисел:\", result)\n",
        "```\n",
        "\n",
        "В этом примере функция `add_numbers` возвращает сумму двух чисел, и результат сохраняется в переменной `result`.\n",
        "\n",
        "## Аргументы функции\n",
        "\n",
        "Функции могут принимать разные типы аргументов: обязательные, аргументы по умолчанию и переменное число аргументов. Примеры:\n",
        "\n",
        "```python\n",
        "# Функция с обязательным аргументом\n",
        "def square(number):\n",
        "    return number ** 2\n",
        "\n",
        "# Функция с аргументом по умолчанию\n",
        "def power(base, exponent=2):\n",
        "    return base ** exponent\n",
        "\n",
        "# Функция с переменным числом аргументов\n",
        "def print_args(*args):\n",
        "    for arg in args:\n",
        "        print(arg)\n",
        "\n",
        "# Вызов функций\n",
        "print(square(4))           # Вывод: 16\n",
        "print(power(3))             # Вывод: 9\n",
        "print_args(1, 2, \"Hello\")   # Вывод: 1 2 Hello\n",
        "```\n",
        "\n",
        "Функции в программировании обеспечивают структурирование кода, облегчают его понимание и поддержку, а также содействуют повторному использованию."
      ],
      "metadata": {
        "id": "_HMFqJvA0zYE"
      }
    },
    {
      "cell_type": "markdown",
      "source": [
        "## Библиотеки в программировании\n",
        "\n",
        "**Библиотеки** в программировании представляют собой наборы функций и инструментов, предназначенные для решения определенных задач. Они содержат готовые реализации алгоритмов, структур данных и других компонентов, что упрощает процесс разработки программ.\n",
        "\n",
        "### Зачем нужны библиотеки:\n",
        "\n",
        "1. **Экономия времени:** Библиотеки предоставляют готовые решения, позволяя избежать написания кода с нуля для каждой задачи.\n",
        "\n",
        "2. **Улучшение производительности:** Оптимизированные библиотеки способствуют более эффективной работе программ.\n",
        "\n",
        "3. **Расширение функциональности:** Позволяют добавлять новые возможности в программы без полной переработки кода.\n",
        "\n",
        "4. **Совместное использование кода:** Разработчики могут создавать модульные и переиспользуемые компоненты.\n",
        "\n",
        "### Пример с использованием библиотеки Plotly Express:\n",
        "\n",
        "```python\n",
        "import plotly.express as px\n",
        "\n",
        "# Создание данных\n",
        "data = {'Name': ['Alice', 'Bob', 'Charlie'],\n",
        "        'Age': [25, 30, 35],\n",
        "        'City': ['New York', 'San Francisco', 'Los Angeles']}\n",
        "\n",
        "# Создание фигуры с использованием Plotly Express\n",
        "fig = px.bar(data, x='Name', y='Age', color='City', title='Гистограмма возрастов по городам')\n",
        "fig.show()\n",
        "```\n",
        "\n",
        "В этом примере используется библиотека Plotly Express для создания гистограммы возрастов с цветовой кодировкой по городам."
      ],
      "metadata": {
        "id": "cy1DL9Au184w"
      }
    },
    {
      "cell_type": "code",
      "source": [
        "import plotly.express as px\n",
        "\n",
        "# Создание данных\n",
        "data = {'Name': ['Alice', 'Bob', 'Charlie'],\n",
        "        'Age': [25, 30, 35],\n",
        "        'City': ['New York', 'San Francisco', 'Los Angeles']}\n",
        "\n",
        "# Создание фигуры с использованием Plotly Express\n",
        "fig = px.bar(data, x='Name', y='Age', color='City', title='Гистограмма возрастов по городам')\n",
        "fig.show()"
      ],
      "metadata": {
        "colab": {
          "base_uri": "https://localhost:8080/",
          "height": 542
        },
        "id": "ZkEE_BOz249A",
        "outputId": "a905f8ca-71cf-4a40-b32f-7bb9da588012"
      },
      "execution_count": null,
      "outputs": [
        {
          "output_type": "display_data",
          "data": {
            "text/html": [
              "<html>\n",
              "<head><meta charset=\"utf-8\" /></head>\n",
              "<body>\n",
              "    <div>            <script src=\"https://cdnjs.cloudflare.com/ajax/libs/mathjax/2.7.5/MathJax.js?config=TeX-AMS-MML_SVG\"></script><script type=\"text/javascript\">if (window.MathJax && window.MathJax.Hub && window.MathJax.Hub.Config) {window.MathJax.Hub.Config({SVG: {font: \"STIX-Web\"}});}</script>                <script type=\"text/javascript\">window.PlotlyConfig = {MathJaxConfig: 'local'};</script>\n",
              "        <script charset=\"utf-8\" src=\"https://cdn.plot.ly/plotly-2.24.1.min.js\"></script>                <div id=\"28c4d02c-8837-4cce-b70d-c360eebca9a5\" class=\"plotly-graph-div\" style=\"height:525px; width:100%;\"></div>            <script type=\"text/javascript\">                                    window.PLOTLYENV=window.PLOTLYENV || {};                                    if (document.getElementById(\"28c4d02c-8837-4cce-b70d-c360eebca9a5\")) {                    Plotly.newPlot(                        \"28c4d02c-8837-4cce-b70d-c360eebca9a5\",                        [{\"alignmentgroup\":\"True\",\"hovertemplate\":\"City=New York\\u003cbr\\u003eName=%{x}\\u003cbr\\u003eAge=%{y}\\u003cextra\\u003e\\u003c\\u002fextra\\u003e\",\"legendgroup\":\"New York\",\"marker\":{\"color\":\"#636efa\",\"pattern\":{\"shape\":\"\"}},\"name\":\"New York\",\"offsetgroup\":\"New York\",\"orientation\":\"v\",\"showlegend\":true,\"textposition\":\"auto\",\"x\":[\"Alice\"],\"xaxis\":\"x\",\"y\":[25],\"yaxis\":\"y\",\"type\":\"bar\"},{\"alignmentgroup\":\"True\",\"hovertemplate\":\"City=San Francisco\\u003cbr\\u003eName=%{x}\\u003cbr\\u003eAge=%{y}\\u003cextra\\u003e\\u003c\\u002fextra\\u003e\",\"legendgroup\":\"San Francisco\",\"marker\":{\"color\":\"#EF553B\",\"pattern\":{\"shape\":\"\"}},\"name\":\"San Francisco\",\"offsetgroup\":\"San Francisco\",\"orientation\":\"v\",\"showlegend\":true,\"textposition\":\"auto\",\"x\":[\"Bob\"],\"xaxis\":\"x\",\"y\":[30],\"yaxis\":\"y\",\"type\":\"bar\"},{\"alignmentgroup\":\"True\",\"hovertemplate\":\"City=Los Angeles\\u003cbr\\u003eName=%{x}\\u003cbr\\u003eAge=%{y}\\u003cextra\\u003e\\u003c\\u002fextra\\u003e\",\"legendgroup\":\"Los Angeles\",\"marker\":{\"color\":\"#00cc96\",\"pattern\":{\"shape\":\"\"}},\"name\":\"Los Angeles\",\"offsetgroup\":\"Los Angeles\",\"orientation\":\"v\",\"showlegend\":true,\"textposition\":\"auto\",\"x\":[\"Charlie\"],\"xaxis\":\"x\",\"y\":[35],\"yaxis\":\"y\",\"type\":\"bar\"}],                        {\"template\":{\"data\":{\"histogram2dcontour\":[{\"type\":\"histogram2dcontour\",\"colorbar\":{\"outlinewidth\":0,\"ticks\":\"\"},\"colorscale\":[[0.0,\"#0d0887\"],[0.1111111111111111,\"#46039f\"],[0.2222222222222222,\"#7201a8\"],[0.3333333333333333,\"#9c179e\"],[0.4444444444444444,\"#bd3786\"],[0.5555555555555556,\"#d8576b\"],[0.6666666666666666,\"#ed7953\"],[0.7777777777777778,\"#fb9f3a\"],[0.8888888888888888,\"#fdca26\"],[1.0,\"#f0f921\"]]}],\"choropleth\":[{\"type\":\"choropleth\",\"colorbar\":{\"outlinewidth\":0,\"ticks\":\"\"}}],\"histogram2d\":[{\"type\":\"histogram2d\",\"colorbar\":{\"outlinewidth\":0,\"ticks\":\"\"},\"colorscale\":[[0.0,\"#0d0887\"],[0.1111111111111111,\"#46039f\"],[0.2222222222222222,\"#7201a8\"],[0.3333333333333333,\"#9c179e\"],[0.4444444444444444,\"#bd3786\"],[0.5555555555555556,\"#d8576b\"],[0.6666666666666666,\"#ed7953\"],[0.7777777777777778,\"#fb9f3a\"],[0.8888888888888888,\"#fdca26\"],[1.0,\"#f0f921\"]]}],\"heatmap\":[{\"type\":\"heatmap\",\"colorbar\":{\"outlinewidth\":0,\"ticks\":\"\"},\"colorscale\":[[0.0,\"#0d0887\"],[0.1111111111111111,\"#46039f\"],[0.2222222222222222,\"#7201a8\"],[0.3333333333333333,\"#9c179e\"],[0.4444444444444444,\"#bd3786\"],[0.5555555555555556,\"#d8576b\"],[0.6666666666666666,\"#ed7953\"],[0.7777777777777778,\"#fb9f3a\"],[0.8888888888888888,\"#fdca26\"],[1.0,\"#f0f921\"]]}],\"heatmapgl\":[{\"type\":\"heatmapgl\",\"colorbar\":{\"outlinewidth\":0,\"ticks\":\"\"},\"colorscale\":[[0.0,\"#0d0887\"],[0.1111111111111111,\"#46039f\"],[0.2222222222222222,\"#7201a8\"],[0.3333333333333333,\"#9c179e\"],[0.4444444444444444,\"#bd3786\"],[0.5555555555555556,\"#d8576b\"],[0.6666666666666666,\"#ed7953\"],[0.7777777777777778,\"#fb9f3a\"],[0.8888888888888888,\"#fdca26\"],[1.0,\"#f0f921\"]]}],\"contourcarpet\":[{\"type\":\"contourcarpet\",\"colorbar\":{\"outlinewidth\":0,\"ticks\":\"\"}}],\"contour\":[{\"type\":\"contour\",\"colorbar\":{\"outlinewidth\":0,\"ticks\":\"\"},\"colorscale\":[[0.0,\"#0d0887\"],[0.1111111111111111,\"#46039f\"],[0.2222222222222222,\"#7201a8\"],[0.3333333333333333,\"#9c179e\"],[0.4444444444444444,\"#bd3786\"],[0.5555555555555556,\"#d8576b\"],[0.6666666666666666,\"#ed7953\"],[0.7777777777777778,\"#fb9f3a\"],[0.8888888888888888,\"#fdca26\"],[1.0,\"#f0f921\"]]}],\"surface\":[{\"type\":\"surface\",\"colorbar\":{\"outlinewidth\":0,\"ticks\":\"\"},\"colorscale\":[[0.0,\"#0d0887\"],[0.1111111111111111,\"#46039f\"],[0.2222222222222222,\"#7201a8\"],[0.3333333333333333,\"#9c179e\"],[0.4444444444444444,\"#bd3786\"],[0.5555555555555556,\"#d8576b\"],[0.6666666666666666,\"#ed7953\"],[0.7777777777777778,\"#fb9f3a\"],[0.8888888888888888,\"#fdca26\"],[1.0,\"#f0f921\"]]}],\"mesh3d\":[{\"type\":\"mesh3d\",\"colorbar\":{\"outlinewidth\":0,\"ticks\":\"\"}}],\"scatter\":[{\"fillpattern\":{\"fillmode\":\"overlay\",\"size\":10,\"solidity\":0.2},\"type\":\"scatter\"}],\"parcoords\":[{\"type\":\"parcoords\",\"line\":{\"colorbar\":{\"outlinewidth\":0,\"ticks\":\"\"}}}],\"scatterpolargl\":[{\"type\":\"scatterpolargl\",\"marker\":{\"colorbar\":{\"outlinewidth\":0,\"ticks\":\"\"}}}],\"bar\":[{\"error_x\":{\"color\":\"#2a3f5f\"},\"error_y\":{\"color\":\"#2a3f5f\"},\"marker\":{\"line\":{\"color\":\"#E5ECF6\",\"width\":0.5},\"pattern\":{\"fillmode\":\"overlay\",\"size\":10,\"solidity\":0.2}},\"type\":\"bar\"}],\"scattergeo\":[{\"type\":\"scattergeo\",\"marker\":{\"colorbar\":{\"outlinewidth\":0,\"ticks\":\"\"}}}],\"scatterpolar\":[{\"type\":\"scatterpolar\",\"marker\":{\"colorbar\":{\"outlinewidth\":0,\"ticks\":\"\"}}}],\"histogram\":[{\"marker\":{\"pattern\":{\"fillmode\":\"overlay\",\"size\":10,\"solidity\":0.2}},\"type\":\"histogram\"}],\"scattergl\":[{\"type\":\"scattergl\",\"marker\":{\"colorbar\":{\"outlinewidth\":0,\"ticks\":\"\"}}}],\"scatter3d\":[{\"type\":\"scatter3d\",\"line\":{\"colorbar\":{\"outlinewidth\":0,\"ticks\":\"\"}},\"marker\":{\"colorbar\":{\"outlinewidth\":0,\"ticks\":\"\"}}}],\"scattermapbox\":[{\"type\":\"scattermapbox\",\"marker\":{\"colorbar\":{\"outlinewidth\":0,\"ticks\":\"\"}}}],\"scatterternary\":[{\"type\":\"scatterternary\",\"marker\":{\"colorbar\":{\"outlinewidth\":0,\"ticks\":\"\"}}}],\"scattercarpet\":[{\"type\":\"scattercarpet\",\"marker\":{\"colorbar\":{\"outlinewidth\":0,\"ticks\":\"\"}}}],\"carpet\":[{\"aaxis\":{\"endlinecolor\":\"#2a3f5f\",\"gridcolor\":\"white\",\"linecolor\":\"white\",\"minorgridcolor\":\"white\",\"startlinecolor\":\"#2a3f5f\"},\"baxis\":{\"endlinecolor\":\"#2a3f5f\",\"gridcolor\":\"white\",\"linecolor\":\"white\",\"minorgridcolor\":\"white\",\"startlinecolor\":\"#2a3f5f\"},\"type\":\"carpet\"}],\"table\":[{\"cells\":{\"fill\":{\"color\":\"#EBF0F8\"},\"line\":{\"color\":\"white\"}},\"header\":{\"fill\":{\"color\":\"#C8D4E3\"},\"line\":{\"color\":\"white\"}},\"type\":\"table\"}],\"barpolar\":[{\"marker\":{\"line\":{\"color\":\"#E5ECF6\",\"width\":0.5},\"pattern\":{\"fillmode\":\"overlay\",\"size\":10,\"solidity\":0.2}},\"type\":\"barpolar\"}],\"pie\":[{\"automargin\":true,\"type\":\"pie\"}]},\"layout\":{\"autotypenumbers\":\"strict\",\"colorway\":[\"#636efa\",\"#EF553B\",\"#00cc96\",\"#ab63fa\",\"#FFA15A\",\"#19d3f3\",\"#FF6692\",\"#B6E880\",\"#FF97FF\",\"#FECB52\"],\"font\":{\"color\":\"#2a3f5f\"},\"hovermode\":\"closest\",\"hoverlabel\":{\"align\":\"left\"},\"paper_bgcolor\":\"white\",\"plot_bgcolor\":\"#E5ECF6\",\"polar\":{\"bgcolor\":\"#E5ECF6\",\"angularaxis\":{\"gridcolor\":\"white\",\"linecolor\":\"white\",\"ticks\":\"\"},\"radialaxis\":{\"gridcolor\":\"white\",\"linecolor\":\"white\",\"ticks\":\"\"}},\"ternary\":{\"bgcolor\":\"#E5ECF6\",\"aaxis\":{\"gridcolor\":\"white\",\"linecolor\":\"white\",\"ticks\":\"\"},\"baxis\":{\"gridcolor\":\"white\",\"linecolor\":\"white\",\"ticks\":\"\"},\"caxis\":{\"gridcolor\":\"white\",\"linecolor\":\"white\",\"ticks\":\"\"}},\"coloraxis\":{\"colorbar\":{\"outlinewidth\":0,\"ticks\":\"\"}},\"colorscale\":{\"sequential\":[[0.0,\"#0d0887\"],[0.1111111111111111,\"#46039f\"],[0.2222222222222222,\"#7201a8\"],[0.3333333333333333,\"#9c179e\"],[0.4444444444444444,\"#bd3786\"],[0.5555555555555556,\"#d8576b\"],[0.6666666666666666,\"#ed7953\"],[0.7777777777777778,\"#fb9f3a\"],[0.8888888888888888,\"#fdca26\"],[1.0,\"#f0f921\"]],\"sequentialminus\":[[0.0,\"#0d0887\"],[0.1111111111111111,\"#46039f\"],[0.2222222222222222,\"#7201a8\"],[0.3333333333333333,\"#9c179e\"],[0.4444444444444444,\"#bd3786\"],[0.5555555555555556,\"#d8576b\"],[0.6666666666666666,\"#ed7953\"],[0.7777777777777778,\"#fb9f3a\"],[0.8888888888888888,\"#fdca26\"],[1.0,\"#f0f921\"]],\"diverging\":[[0,\"#8e0152\"],[0.1,\"#c51b7d\"],[0.2,\"#de77ae\"],[0.3,\"#f1b6da\"],[0.4,\"#fde0ef\"],[0.5,\"#f7f7f7\"],[0.6,\"#e6f5d0\"],[0.7,\"#b8e186\"],[0.8,\"#7fbc41\"],[0.9,\"#4d9221\"],[1,\"#276419\"]]},\"xaxis\":{\"gridcolor\":\"white\",\"linecolor\":\"white\",\"ticks\":\"\",\"title\":{\"standoff\":15},\"zerolinecolor\":\"white\",\"automargin\":true,\"zerolinewidth\":2},\"yaxis\":{\"gridcolor\":\"white\",\"linecolor\":\"white\",\"ticks\":\"\",\"title\":{\"standoff\":15},\"zerolinecolor\":\"white\",\"automargin\":true,\"zerolinewidth\":2},\"scene\":{\"xaxis\":{\"backgroundcolor\":\"#E5ECF6\",\"gridcolor\":\"white\",\"linecolor\":\"white\",\"showbackground\":true,\"ticks\":\"\",\"zerolinecolor\":\"white\",\"gridwidth\":2},\"yaxis\":{\"backgroundcolor\":\"#E5ECF6\",\"gridcolor\":\"white\",\"linecolor\":\"white\",\"showbackground\":true,\"ticks\":\"\",\"zerolinecolor\":\"white\",\"gridwidth\":2},\"zaxis\":{\"backgroundcolor\":\"#E5ECF6\",\"gridcolor\":\"white\",\"linecolor\":\"white\",\"showbackground\":true,\"ticks\":\"\",\"zerolinecolor\":\"white\",\"gridwidth\":2}},\"shapedefaults\":{\"line\":{\"color\":\"#2a3f5f\"}},\"annotationdefaults\":{\"arrowcolor\":\"#2a3f5f\",\"arrowhead\":0,\"arrowwidth\":1},\"geo\":{\"bgcolor\":\"white\",\"landcolor\":\"#E5ECF6\",\"subunitcolor\":\"white\",\"showland\":true,\"showlakes\":true,\"lakecolor\":\"white\"},\"title\":{\"x\":0.05},\"mapbox\":{\"style\":\"light\"}}},\"xaxis\":{\"anchor\":\"y\",\"domain\":[0.0,1.0],\"title\":{\"text\":\"Name\"}},\"yaxis\":{\"anchor\":\"x\",\"domain\":[0.0,1.0],\"title\":{\"text\":\"Age\"}},\"legend\":{\"title\":{\"text\":\"City\"},\"tracegroupgap\":0},\"title\":{\"text\":\"\\u0413\\u0438\\u0441\\u0442\\u043e\\u0433\\u0440\\u0430\\u043c\\u043c\\u0430 \\u0432\\u043e\\u0437\\u0440\\u0430\\u0441\\u0442\\u043e\\u0432 \\u043f\\u043e \\u0433\\u043e\\u0440\\u043e\\u0434\\u0430\\u043c\"},\"barmode\":\"relative\"},                        {\"responsive\": true}                    ).then(function(){\n",
              "                            \n",
              "var gd = document.getElementById('28c4d02c-8837-4cce-b70d-c360eebca9a5');\n",
              "var x = new MutationObserver(function (mutations, observer) {{\n",
              "        var display = window.getComputedStyle(gd).display;\n",
              "        if (!display || display === 'none') {{\n",
              "            console.log([gd, 'removed!']);\n",
              "            Plotly.purge(gd);\n",
              "            observer.disconnect();\n",
              "        }}\n",
              "}});\n",
              "\n",
              "// Listen for the removal of the full notebook cells\n",
              "var notebookContainer = gd.closest('#notebook-container');\n",
              "if (notebookContainer) {{\n",
              "    x.observe(notebookContainer, {childList: true});\n",
              "}}\n",
              "\n",
              "// Listen for the clearing of the current output cell\n",
              "var outputEl = gd.closest('.output');\n",
              "if (outputEl) {{\n",
              "    x.observe(outputEl, {childList: true});\n",
              "}}\n",
              "\n",
              "                        })                };                            </script>        </div>\n",
              "</body>\n",
              "</html>"
            ]
          },
          "metadata": {}
        }
      ]
    },
    {
      "cell_type": "markdown",
      "source": [
        "## Работа с файлами в Python\n",
        "\n",
        "В Python существует несколько способов работы с файлами. Важные функции включают `open()`, `read()`, `write()`, и `close()`.\n",
        "\n",
        "### Открытие файла\n",
        "\n",
        "Для открытия файла используется функция `open()`. Она принимает два аргумента: путь к файлу и режим открытия (чтение, запись, добавление и так далее).\n",
        "\n",
        "```python\n",
        "file = open(\"example.txt\", \"r\")\n",
        "```\n",
        "\n",
        "### Чтение данных из файла\n",
        "\n",
        "Для чтения данных из файла можно использовать метод `read()`. Он считывает все содержимое файла в строку.\n",
        "\n",
        "```python\n",
        "content = file.read()\n",
        "```\n",
        "\n",
        "Можно также считывать файл по строкам с использованием цикла:\n",
        "\n",
        "```python\n",
        "for line in file:\n",
        "    print(line)\n",
        "```\n",
        "\n",
        "### Запись данных в файл\n",
        "\n",
        "Для записи данных в файл используется метод `write()`. Если файл не существует, он будет создан.\n",
        "\n",
        "```python\n",
        "file = open(\"example.txt\", \"w\")\n",
        "file.write(\"Hello, World!\")\n",
        "file.close()\n",
        "```\n",
        "\n",
        "### Закрытие файла\n",
        "\n",
        "Важно закрывать файл после его использования. Это освобождает ресурсы и предотвращает возможные проблемы.\n",
        "\n",
        "```python\n",
        "file.close()\n",
        "```\n",
        "\n",
        "### Контекстный менеджер\n",
        "\n",
        "Чтобы гарантировать закрытие файла даже в случае ошибки, рекомендуется использовать контекстный менеджер (`with` statement):\n",
        "\n",
        "```python\n",
        "with open(\"example.txt\", \"r\") as file:\n",
        "    content = file.read()\n",
        "    # файл автоматически закрывается после выхода из блока with\n",
        "```\n",
        "\n",
        "### Работа с CSV файлами\n",
        "\n",
        "Для работы с данными в формате CSV в Python часто используется библиотека `csv`. Однако, библиотеки высокого уровня, такие как `pandas`, предоставляют удобные средства для работы с данными в таблицах (DataFrame).\n",
        "\n",
        "```python\n",
        "import pandas as pd\n",
        "\n",
        "url = 'https://docs.google.com/.../export?format=csv'\n",
        "df = pd.read_csv(url)\n",
        "```\n",
        "\n",
        "В этом примере данные загружаются из CSV-файла с использованием `pandas`, что облегчает работу с данными в виде таблицы."
      ],
      "metadata": {
        "id": "HKQXnqBC1z4O"
      }
    },
    {
      "cell_type": "markdown",
      "source": [
        "В библиотеке Plotly для построения радарных графиков используется `go.Scatterpolar` или `px.line_polar`. Давайте рассмотрим подробный пример с использованием `px.line_polar`:\n",
        "\n",
        "```python\n",
        "import plotly.express as px\n",
        "import pandas as pd\n",
        "\n",
        "# Создание DataFrame с данными\n",
        "data = {'Category': ['A', 'B', 'C', 'D', 'E'],\n",
        "        'Value': [4, 7, 1, 5, 10]}\n",
        "\n",
        "df = pd.DataFrame(data)\n",
        "\n",
        "# Построение радарного графика с Plotly Express\n",
        "fig = px.line_polar(df, r='Value', theta='Category', line_close=True)\n",
        "\n",
        "# Настройка внешнего вида графика\n",
        "fig.update_layout(\n",
        "    polar=dict(\n",
        "        radialaxis=dict(\n",
        "            visible=True,\n",
        "            range=[0, 10]  # Задаем диапазон для радиальной оси\n",
        "        )\n",
        "    )\n",
        ")\n",
        "\n",
        "# Отображение графика\n",
        "fig.show()\n",
        "```\n",
        "\n",
        "В этом примере мы используем `px.line_polar` для построения радарного графика. Важными аргументами являются `r` (значения) и `theta` (угловые координаты или категории). Параметр `line_close=True` соединяет начальную и конечную точки линии, создавая закрытый полигон.\n",
        "\n",
        "Также, мы используем `update_layout` для настройки внешнего вида графика. В данном случае, мы задаем видимость радиальной оси и ее диапазон.\n",
        "\n",
        "Это базовый пример, и вы можете дополнительно настраивать график в соответствии с вашими потребностями, добавлять метки, изменять цвета и т.д."
      ],
      "metadata": {
        "id": "sDbkT8gV3vcu"
      }
    },
    {
      "cell_type": "code",
      "source": [
        "import plotly.express as px\n",
        "import pandas as pd\n",
        "\n",
        "# Создание DataFrame с данными\n",
        "data = {'Category': ['A', 'B', 'C', 'D', 'E'],\n",
        "        'Value': [4, 7, 1, 5, 10]}\n",
        "\n",
        "df = pd.DataFrame(data)\n",
        "\n",
        "# Построение радарного графика с Plotly Express\n",
        "fig = px.line_polar(df, r='Value', theta='Category', line_close=True)\n",
        "\n",
        "# Настройка внешнего вида графика\n",
        "fig.update_layout(\n",
        "    polar=dict(\n",
        "        radialaxis=dict(\n",
        "            visible=True,\n",
        "            range=[0, 10]  # Задаем диапазон для радиальной оси\n",
        "        )\n",
        "    )\n",
        ")\n",
        "\n",
        "# Отображение графика\n",
        "fig.show()"
      ],
      "metadata": {
        "colab": {
          "base_uri": "https://localhost:8080/",
          "height": 542
        },
        "id": "b5oVo9v43y_d",
        "outputId": "3361e8d9-5e90-4ea2-8a7e-da486850510b"
      },
      "execution_count": null,
      "outputs": [
        {
          "output_type": "display_data",
          "data": {
            "text/html": [
              "<html>\n",
              "<head><meta charset=\"utf-8\" /></head>\n",
              "<body>\n",
              "    <div>            <script src=\"https://cdnjs.cloudflare.com/ajax/libs/mathjax/2.7.5/MathJax.js?config=TeX-AMS-MML_SVG\"></script><script type=\"text/javascript\">if (window.MathJax && window.MathJax.Hub && window.MathJax.Hub.Config) {window.MathJax.Hub.Config({SVG: {font: \"STIX-Web\"}});}</script>                <script type=\"text/javascript\">window.PlotlyConfig = {MathJaxConfig: 'local'};</script>\n",
              "        <script charset=\"utf-8\" src=\"https://cdn.plot.ly/plotly-2.24.1.min.js\"></script>                <div id=\"2219fa72-b8d6-4a76-8cd5-9622b41b9d47\" class=\"plotly-graph-div\" style=\"height:525px; width:100%;\"></div>            <script type=\"text/javascript\">                                    window.PLOTLYENV=window.PLOTLYENV || {};                                    if (document.getElementById(\"2219fa72-b8d6-4a76-8cd5-9622b41b9d47\")) {                    Plotly.newPlot(                        \"2219fa72-b8d6-4a76-8cd5-9622b41b9d47\",                        [{\"hovertemplate\":\"Value=%{r}\\u003cbr\\u003eCategory=%{theta}\\u003cextra\\u003e\\u003c\\u002fextra\\u003e\",\"legendgroup\":\"\",\"line\":{\"color\":\"#636efa\",\"dash\":\"solid\"},\"marker\":{\"symbol\":\"circle\"},\"mode\":\"lines\",\"name\":\"\",\"r\":[4,7,1,5,10,4],\"showlegend\":false,\"subplot\":\"polar\",\"theta\":[\"A\",\"B\",\"C\",\"D\",\"E\",\"A\"],\"type\":\"scatterpolar\"}],                        {\"template\":{\"data\":{\"histogram2dcontour\":[{\"type\":\"histogram2dcontour\",\"colorbar\":{\"outlinewidth\":0,\"ticks\":\"\"},\"colorscale\":[[0.0,\"#0d0887\"],[0.1111111111111111,\"#46039f\"],[0.2222222222222222,\"#7201a8\"],[0.3333333333333333,\"#9c179e\"],[0.4444444444444444,\"#bd3786\"],[0.5555555555555556,\"#d8576b\"],[0.6666666666666666,\"#ed7953\"],[0.7777777777777778,\"#fb9f3a\"],[0.8888888888888888,\"#fdca26\"],[1.0,\"#f0f921\"]]}],\"choropleth\":[{\"type\":\"choropleth\",\"colorbar\":{\"outlinewidth\":0,\"ticks\":\"\"}}],\"histogram2d\":[{\"type\":\"histogram2d\",\"colorbar\":{\"outlinewidth\":0,\"ticks\":\"\"},\"colorscale\":[[0.0,\"#0d0887\"],[0.1111111111111111,\"#46039f\"],[0.2222222222222222,\"#7201a8\"],[0.3333333333333333,\"#9c179e\"],[0.4444444444444444,\"#bd3786\"],[0.5555555555555556,\"#d8576b\"],[0.6666666666666666,\"#ed7953\"],[0.7777777777777778,\"#fb9f3a\"],[0.8888888888888888,\"#fdca26\"],[1.0,\"#f0f921\"]]}],\"heatmap\":[{\"type\":\"heatmap\",\"colorbar\":{\"outlinewidth\":0,\"ticks\":\"\"},\"colorscale\":[[0.0,\"#0d0887\"],[0.1111111111111111,\"#46039f\"],[0.2222222222222222,\"#7201a8\"],[0.3333333333333333,\"#9c179e\"],[0.4444444444444444,\"#bd3786\"],[0.5555555555555556,\"#d8576b\"],[0.6666666666666666,\"#ed7953\"],[0.7777777777777778,\"#fb9f3a\"],[0.8888888888888888,\"#fdca26\"],[1.0,\"#f0f921\"]]}],\"heatmapgl\":[{\"type\":\"heatmapgl\",\"colorbar\":{\"outlinewidth\":0,\"ticks\":\"\"},\"colorscale\":[[0.0,\"#0d0887\"],[0.1111111111111111,\"#46039f\"],[0.2222222222222222,\"#7201a8\"],[0.3333333333333333,\"#9c179e\"],[0.4444444444444444,\"#bd3786\"],[0.5555555555555556,\"#d8576b\"],[0.6666666666666666,\"#ed7953\"],[0.7777777777777778,\"#fb9f3a\"],[0.8888888888888888,\"#fdca26\"],[1.0,\"#f0f921\"]]}],\"contourcarpet\":[{\"type\":\"contourcarpet\",\"colorbar\":{\"outlinewidth\":0,\"ticks\":\"\"}}],\"contour\":[{\"type\":\"contour\",\"colorbar\":{\"outlinewidth\":0,\"ticks\":\"\"},\"colorscale\":[[0.0,\"#0d0887\"],[0.1111111111111111,\"#46039f\"],[0.2222222222222222,\"#7201a8\"],[0.3333333333333333,\"#9c179e\"],[0.4444444444444444,\"#bd3786\"],[0.5555555555555556,\"#d8576b\"],[0.6666666666666666,\"#ed7953\"],[0.7777777777777778,\"#fb9f3a\"],[0.8888888888888888,\"#fdca26\"],[1.0,\"#f0f921\"]]}],\"surface\":[{\"type\":\"surface\",\"colorbar\":{\"outlinewidth\":0,\"ticks\":\"\"},\"colorscale\":[[0.0,\"#0d0887\"],[0.1111111111111111,\"#46039f\"],[0.2222222222222222,\"#7201a8\"],[0.3333333333333333,\"#9c179e\"],[0.4444444444444444,\"#bd3786\"],[0.5555555555555556,\"#d8576b\"],[0.6666666666666666,\"#ed7953\"],[0.7777777777777778,\"#fb9f3a\"],[0.8888888888888888,\"#fdca26\"],[1.0,\"#f0f921\"]]}],\"mesh3d\":[{\"type\":\"mesh3d\",\"colorbar\":{\"outlinewidth\":0,\"ticks\":\"\"}}],\"scatter\":[{\"fillpattern\":{\"fillmode\":\"overlay\",\"size\":10,\"solidity\":0.2},\"type\":\"scatter\"}],\"parcoords\":[{\"type\":\"parcoords\",\"line\":{\"colorbar\":{\"outlinewidth\":0,\"ticks\":\"\"}}}],\"scatterpolargl\":[{\"type\":\"scatterpolargl\",\"marker\":{\"colorbar\":{\"outlinewidth\":0,\"ticks\":\"\"}}}],\"bar\":[{\"error_x\":{\"color\":\"#2a3f5f\"},\"error_y\":{\"color\":\"#2a3f5f\"},\"marker\":{\"line\":{\"color\":\"#E5ECF6\",\"width\":0.5},\"pattern\":{\"fillmode\":\"overlay\",\"size\":10,\"solidity\":0.2}},\"type\":\"bar\"}],\"scattergeo\":[{\"type\":\"scattergeo\",\"marker\":{\"colorbar\":{\"outlinewidth\":0,\"ticks\":\"\"}}}],\"scatterpolar\":[{\"type\":\"scatterpolar\",\"marker\":{\"colorbar\":{\"outlinewidth\":0,\"ticks\":\"\"}}}],\"histogram\":[{\"marker\":{\"pattern\":{\"fillmode\":\"overlay\",\"size\":10,\"solidity\":0.2}},\"type\":\"histogram\"}],\"scattergl\":[{\"type\":\"scattergl\",\"marker\":{\"colorbar\":{\"outlinewidth\":0,\"ticks\":\"\"}}}],\"scatter3d\":[{\"type\":\"scatter3d\",\"line\":{\"colorbar\":{\"outlinewidth\":0,\"ticks\":\"\"}},\"marker\":{\"colorbar\":{\"outlinewidth\":0,\"ticks\":\"\"}}}],\"scattermapbox\":[{\"type\":\"scattermapbox\",\"marker\":{\"colorbar\":{\"outlinewidth\":0,\"ticks\":\"\"}}}],\"scatterternary\":[{\"type\":\"scatterternary\",\"marker\":{\"colorbar\":{\"outlinewidth\":0,\"ticks\":\"\"}}}],\"scattercarpet\":[{\"type\":\"scattercarpet\",\"marker\":{\"colorbar\":{\"outlinewidth\":0,\"ticks\":\"\"}}}],\"carpet\":[{\"aaxis\":{\"endlinecolor\":\"#2a3f5f\",\"gridcolor\":\"white\",\"linecolor\":\"white\",\"minorgridcolor\":\"white\",\"startlinecolor\":\"#2a3f5f\"},\"baxis\":{\"endlinecolor\":\"#2a3f5f\",\"gridcolor\":\"white\",\"linecolor\":\"white\",\"minorgridcolor\":\"white\",\"startlinecolor\":\"#2a3f5f\"},\"type\":\"carpet\"}],\"table\":[{\"cells\":{\"fill\":{\"color\":\"#EBF0F8\"},\"line\":{\"color\":\"white\"}},\"header\":{\"fill\":{\"color\":\"#C8D4E3\"},\"line\":{\"color\":\"white\"}},\"type\":\"table\"}],\"barpolar\":[{\"marker\":{\"line\":{\"color\":\"#E5ECF6\",\"width\":0.5},\"pattern\":{\"fillmode\":\"overlay\",\"size\":10,\"solidity\":0.2}},\"type\":\"barpolar\"}],\"pie\":[{\"automargin\":true,\"type\":\"pie\"}]},\"layout\":{\"autotypenumbers\":\"strict\",\"colorway\":[\"#636efa\",\"#EF553B\",\"#00cc96\",\"#ab63fa\",\"#FFA15A\",\"#19d3f3\",\"#FF6692\",\"#B6E880\",\"#FF97FF\",\"#FECB52\"],\"font\":{\"color\":\"#2a3f5f\"},\"hovermode\":\"closest\",\"hoverlabel\":{\"align\":\"left\"},\"paper_bgcolor\":\"white\",\"plot_bgcolor\":\"#E5ECF6\",\"polar\":{\"bgcolor\":\"#E5ECF6\",\"angularaxis\":{\"gridcolor\":\"white\",\"linecolor\":\"white\",\"ticks\":\"\"},\"radialaxis\":{\"gridcolor\":\"white\",\"linecolor\":\"white\",\"ticks\":\"\"}},\"ternary\":{\"bgcolor\":\"#E5ECF6\",\"aaxis\":{\"gridcolor\":\"white\",\"linecolor\":\"white\",\"ticks\":\"\"},\"baxis\":{\"gridcolor\":\"white\",\"linecolor\":\"white\",\"ticks\":\"\"},\"caxis\":{\"gridcolor\":\"white\",\"linecolor\":\"white\",\"ticks\":\"\"}},\"coloraxis\":{\"colorbar\":{\"outlinewidth\":0,\"ticks\":\"\"}},\"colorscale\":{\"sequential\":[[0.0,\"#0d0887\"],[0.1111111111111111,\"#46039f\"],[0.2222222222222222,\"#7201a8\"],[0.3333333333333333,\"#9c179e\"],[0.4444444444444444,\"#bd3786\"],[0.5555555555555556,\"#d8576b\"],[0.6666666666666666,\"#ed7953\"],[0.7777777777777778,\"#fb9f3a\"],[0.8888888888888888,\"#fdca26\"],[1.0,\"#f0f921\"]],\"sequentialminus\":[[0.0,\"#0d0887\"],[0.1111111111111111,\"#46039f\"],[0.2222222222222222,\"#7201a8\"],[0.3333333333333333,\"#9c179e\"],[0.4444444444444444,\"#bd3786\"],[0.5555555555555556,\"#d8576b\"],[0.6666666666666666,\"#ed7953\"],[0.7777777777777778,\"#fb9f3a\"],[0.8888888888888888,\"#fdca26\"],[1.0,\"#f0f921\"]],\"diverging\":[[0,\"#8e0152\"],[0.1,\"#c51b7d\"],[0.2,\"#de77ae\"],[0.3,\"#f1b6da\"],[0.4,\"#fde0ef\"],[0.5,\"#f7f7f7\"],[0.6,\"#e6f5d0\"],[0.7,\"#b8e186\"],[0.8,\"#7fbc41\"],[0.9,\"#4d9221\"],[1,\"#276419\"]]},\"xaxis\":{\"gridcolor\":\"white\",\"linecolor\":\"white\",\"ticks\":\"\",\"title\":{\"standoff\":15},\"zerolinecolor\":\"white\",\"automargin\":true,\"zerolinewidth\":2},\"yaxis\":{\"gridcolor\":\"white\",\"linecolor\":\"white\",\"ticks\":\"\",\"title\":{\"standoff\":15},\"zerolinecolor\":\"white\",\"automargin\":true,\"zerolinewidth\":2},\"scene\":{\"xaxis\":{\"backgroundcolor\":\"#E5ECF6\",\"gridcolor\":\"white\",\"linecolor\":\"white\",\"showbackground\":true,\"ticks\":\"\",\"zerolinecolor\":\"white\",\"gridwidth\":2},\"yaxis\":{\"backgroundcolor\":\"#E5ECF6\",\"gridcolor\":\"white\",\"linecolor\":\"white\",\"showbackground\":true,\"ticks\":\"\",\"zerolinecolor\":\"white\",\"gridwidth\":2},\"zaxis\":{\"backgroundcolor\":\"#E5ECF6\",\"gridcolor\":\"white\",\"linecolor\":\"white\",\"showbackground\":true,\"ticks\":\"\",\"zerolinecolor\":\"white\",\"gridwidth\":2}},\"shapedefaults\":{\"line\":{\"color\":\"#2a3f5f\"}},\"annotationdefaults\":{\"arrowcolor\":\"#2a3f5f\",\"arrowhead\":0,\"arrowwidth\":1},\"geo\":{\"bgcolor\":\"white\",\"landcolor\":\"#E5ECF6\",\"subunitcolor\":\"white\",\"showland\":true,\"showlakes\":true,\"lakecolor\":\"white\"},\"title\":{\"x\":0.05},\"mapbox\":{\"style\":\"light\"}}},\"polar\":{\"domain\":{\"x\":[0.0,1.0],\"y\":[0.0,1.0]},\"angularaxis\":{\"direction\":\"clockwise\",\"rotation\":90},\"radialaxis\":{\"visible\":true,\"range\":[0,10]}},\"legend\":{\"tracegroupgap\":0},\"margin\":{\"t\":60}},                        {\"responsive\": true}                    ).then(function(){\n",
              "                            \n",
              "var gd = document.getElementById('2219fa72-b8d6-4a76-8cd5-9622b41b9d47');\n",
              "var x = new MutationObserver(function (mutations, observer) {{\n",
              "        var display = window.getComputedStyle(gd).display;\n",
              "        if (!display || display === 'none') {{\n",
              "            console.log([gd, 'removed!']);\n",
              "            Plotly.purge(gd);\n",
              "            observer.disconnect();\n",
              "        }}\n",
              "}});\n",
              "\n",
              "// Listen for the removal of the full notebook cells\n",
              "var notebookContainer = gd.closest('#notebook-container');\n",
              "if (notebookContainer) {{\n",
              "    x.observe(notebookContainer, {childList: true});\n",
              "}}\n",
              "\n",
              "// Listen for the clearing of the current output cell\n",
              "var outputEl = gd.closest('.output');\n",
              "if (outputEl) {{\n",
              "    x.observe(outputEl, {childList: true});\n",
              "}}\n",
              "\n",
              "                        })                };                            </script>        </div>\n",
              "</body>\n",
              "</html>"
            ]
          },
          "metadata": {}
        }
      ]
    },
    {
      "cell_type": "markdown",
      "source": [
        "**Задача: Анализ результатов опроса с использованием Radar Chart**\n",
        "\n",
        "Дано:\n",
        "1. CSV-файл с результатами опроса по различным критериям.\n",
        "2. URL для загрузки данных из CSV-файла.\n",
        "3. Константное значение `2`, которое будет отображаться второй линией на графике.\n",
        "\n",
        "Необходимо:\n",
        "1. Выполнить выборку данных опроса из колонок с 6 по 16.\n",
        "2. Построить Radar Chart с использованием библиотеки Plotly.\n",
        "3. Использовать результаты опроса"
      ],
      "metadata": {
        "id": "M9defzOe4R6_"
      }
    },
    {
      "cell_type": "markdown",
      "source": [
        "https://docs.google.com/spreadsheets/d/1bRtJkFXv3DfOjl19jlkJee65u_BPR1e6VLdGTIM8Gcc/edit?usp=sharing"
      ],
      "metadata": {
        "id": "TJsjpQngbin1"
      }
    }
  ]
}